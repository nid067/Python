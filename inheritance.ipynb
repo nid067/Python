{
  "nbformat": 4,
  "nbformat_minor": 0,
  "metadata": {
    "colab": {
      "provenance": []
    },
    "kernelspec": {
      "name": "python3",
      "display_name": "Python 3"
    },
    "language_info": {
      "name": "python"
    }
  },
  "cells": [
    {
      "cell_type": "code",
      "execution_count": 1,
      "metadata": {
        "colab": {
          "base_uri": "https://localhost:8080/"
        },
        "id": "TeL4Y4hysuaR",
        "outputId": "fda0a6b4-6c9e-48f2-de66-23ecb1b57016"
      },
      "outputs": [
        {
          "output_type": "stream",
          "name": "stdout",
          "text": [
            "inside Base class\n",
            "inside derived class\n"
          ]
        }
      ],
      "source": [
        "##  Single inheritance\n",
        "\n",
        "class Animal:\n",
        "  def speak(self):\n",
        "    print(\"inside Base class\")\n",
        "\n",
        "class Dog(Animal):\n",
        "  def bark(self):\n",
        "    print(\"inside derived class\")\n",
        "\n",
        "obj=Dog()\n",
        "obj.speak()\n",
        "obj.bark()"
      ]
    },
    {
      "cell_type": "code",
      "source": [
        "##  Multiple inheritance\n",
        "\n",
        "class Animal:\n",
        "  def speak(self):\n",
        "    print(\"inside Base class\")\n",
        "\n",
        "class Pet:\n",
        "  def play(self):\n",
        "    print(\"inside 2nd parent class\")\n",
        "\n",
        "class Dog(Animal,Pet):\n",
        "  def bark(self):\n",
        "    print(\"inside derived class\")\n",
        "\n",
        "obj=Dog()\n",
        "obj.speak()\n",
        "obj.play()\n",
        "obj.bark()"
      ],
      "metadata": {
        "colab": {
          "base_uri": "https://localhost:8080/"
        },
        "id": "YZHVSCIztn6q",
        "outputId": "24577d1d-3218-44d8-ac15-8cac416ba07d"
      },
      "execution_count": 3,
      "outputs": [
        {
          "output_type": "stream",
          "name": "stdout",
          "text": [
            "inside Base class\n",
            "inside 2nd parent class\n",
            "inside derived class\n"
          ]
        }
      ]
    },
    {
      "cell_type": "code",
      "source": [
        "##  Multilevel inheritance\n",
        "\n",
        "class Animal:\n",
        "  def eat(self):\n",
        "    print(\"inside Base class of mammal\")\n",
        "\n",
        "class Mammal:\n",
        "  def play(self):\n",
        "    print(\"inside base class of Human and derived class of Animal\")\n",
        "\n",
        "class Human(Animal,Pet):\n",
        "  def speak(self):\n",
        "    print(\"inside derived class of mammal\")\n",
        "\n",
        "obj=Human()\n",
        "obj.eat()\n",
        "obj.play()\n",
        "obj.speak()\n"
      ],
      "metadata": {
        "colab": {
          "base_uri": "https://localhost:8080/"
        },
        "id": "YGWzEprjurET",
        "outputId": "8f369db4-0f2c-428b-98fc-0f3156121a2a"
      },
      "execution_count": 4,
      "outputs": [
        {
          "output_type": "stream",
          "name": "stdout",
          "text": [
            "inside Base class of mammal\n",
            "inside 2nd parent class\n",
            "inside derived class of mammal\n"
          ]
        }
      ]
    },
    {
      "cell_type": "code",
      "source": [
        "##    Hierarchical inheritance\n",
        "\n",
        "class Parent:\n",
        "  def teach(self):\n",
        "    print(\"inside parent class\")\n",
        "\n",
        "class Child1(Parent):\n",
        "  def learn(self):\n",
        "    print(\"inside child1 class\")\n",
        "\n",
        "class Child2(Parent):\n",
        "  def speak(self):\n",
        "    print(\"inside child2 class\")\n",
        "\n",
        "c1=Child1()   # object for child 1 class\n",
        "c1.teach()\n",
        "c1.learn()\n",
        "print()\n",
        "c2=Child2()   #object for child 2 class\n",
        "c2.teach()\n",
        "c2.speak()"
      ],
      "metadata": {
        "colab": {
          "base_uri": "https://localhost:8080/"
        },
        "id": "ryIDnG7dv7Z8",
        "outputId": "d5ad9e75-382f-4169-e199-6fd0cdc434b0"
      },
      "execution_count": 7,
      "outputs": [
        {
          "output_type": "stream",
          "name": "stdout",
          "text": [
            "inside parent class\n",
            "inside child1 class\n",
            "\n",
            "inside parent class\n",
            "inside child2 class\n"
          ]
        }
      ]
    },
    {
      "cell_type": "code",
      "source": [
        "#   Hybrid inheritance - Hybrid of hierarchical and multiple inheritance\n",
        "\n",
        "class Species:\n",
        "  def born(self):\n",
        "    print(\"inside species class\")\n",
        "\n",
        "class Human1(Species):\n",
        "  def category1(self):\n",
        "    print(\"inside human1 class\")\n",
        "\n",
        "class Human2(Species):\n",
        "  def category2(self):\n",
        "    print(\"Inside human 2 class\")\n",
        "\n",
        "class Child(Human1,Human2):\n",
        "  def birth(self):\n",
        "    print(\"Child of human1 and human2\")\n",
        "\n",
        "h1=Human1()\n",
        "h1.born()\n",
        "h1.category1()\n",
        "print()\n",
        "h2=Human2()\n",
        "h2.born()\n",
        "h2.category2()\n",
        "print()\n",
        "ch=Child()\n",
        "ch.category1()\n",
        "ch.category2()\n",
        "ch.birth()"
      ],
      "metadata": {
        "colab": {
          "base_uri": "https://localhost:8080/"
        },
        "id": "WwtriaQcw-bz",
        "outputId": "4f3a6db4-5b95-4932-91f8-9191c5c4b88a"
      },
      "execution_count": 13,
      "outputs": [
        {
          "output_type": "stream",
          "name": "stdout",
          "text": [
            "inside species class\n",
            "inside human1 class\n",
            "\n",
            "inside species class\n",
            "Inside human 2 class\n",
            "\n",
            "inside human1 class\n",
            "Inside human 2 class\n",
            "Child of human1 and human2\n"
          ]
        }
      ]
    }
  ]
}